{
 "cells": [
  {
   "cell_type": "markdown",
   "metadata": {},
   "source": [
    "# Bubble Sort"
   ]
  },
  {
   "cell_type": "code",
   "execution_count": 4,
   "metadata": {},
   "outputs": [],
   "source": [
    "def bubble(data):\n",
    "    isswap = False\n",
    "    for f in range(len(data) - 1):\n",
    "        print(\"first :- \", f)\n",
    "        for s in range(len(data) - 1 -f):\n",
    "            print(\"second :- \", s)\n",
    "            if data[s] > data[s+1]:\n",
    "                data[s], data[s+1] = data[s+1], data[s]\n",
    "                isswap = True\n",
    "                print(\"swap done...\")\n",
    "        if not(isswap):\n",
    "            return 'Already sorted'\n",
    "        print(\"pass completed....\")\n",
    "        print(\"every pass result :- \", data)\n",
    "    return data"
   ]
  },
  {
   "cell_type": "code",
   "execution_count": 6,
   "metadata": {},
   "outputs": [
    {
     "name": "stdout",
     "output_type": "stream",
     "text": [
      "first :-  0\n",
      "second :-  0\n",
      "second :-  1\n",
      "second :-  2\n",
      "swap done...\n",
      "second :-  3\n",
      "swap done...\n",
      "pass completed....\n",
      "every pass result :-  [1, 2, 0, 21, 36]\n",
      "first :-  1\n",
      "second :-  0\n",
      "second :-  1\n",
      "swap done...\n",
      "second :-  2\n",
      "pass completed....\n",
      "every pass result :-  [1, 0, 2, 21, 36]\n",
      "first :-  2\n",
      "second :-  0\n",
      "swap done...\n",
      "second :-  1\n",
      "pass completed....\n",
      "every pass result :-  [0, 1, 2, 21, 36]\n",
      "first :-  3\n",
      "second :-  0\n",
      "pass completed....\n",
      "every pass result :-  [0, 1, 2, 21, 36]\n"
     ]
    },
    {
     "data": {
      "text/plain": [
       "[0, 1, 2, 21, 36]"
      ]
     },
     "execution_count": 6,
     "metadata": {},
     "output_type": "execute_result"
    }
   ],
   "source": [
    "bubble([1,2, 36, 0, 21])"
   ]
  },
  {
   "cell_type": "code",
   "execution_count": null,
   "metadata": {},
   "outputs": [],
   "source": []
  }
 ],
 "metadata": {
  "kernelspec": {
   "display_name": "Python 3",
   "language": "python",
   "name": "python3"
  },
  "language_info": {
   "codemirror_mode": {
    "name": "ipython",
    "version": 3
   },
   "file_extension": ".py",
   "mimetype": "text/x-python",
   "name": "python",
   "nbconvert_exporter": "python",
   "pygments_lexer": "ipython3",
   "version": "3.8.3"
  }
 },
 "nbformat": 4,
 "nbformat_minor": 4
}
