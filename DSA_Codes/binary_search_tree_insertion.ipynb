{
 "cells": [
  {
   "cell_type": "code",
   "execution_count": 1,
   "metadata": {},
   "outputs": [],
   "source": [
    "class BSTNode():\n",
    "    def __init__(self, data):\n",
    "        self.data = data\n",
    "        self.leftChild = None\n",
    "        self.rightChild = None"
   ]
  },
  {
   "cell_type": "code",
   "execution_count": 2,
   "metadata": {},
   "outputs": [],
   "source": [
    "newNode = BSTNode(None)"
   ]
  },
  {
   "cell_type": "code",
   "execution_count": 3,
   "metadata": {},
   "outputs": [
    {
     "data": {
      "text/plain": [
       "{'data': None, 'leftChild': None, 'rightChild': None}"
      ]
     },
     "execution_count": 3,
     "metadata": {},
     "output_type": "execute_result"
    }
   ],
   "source": [
    "newNode.__dict__"
   ]
  },
  {
   "cell_type": "code",
   "execution_count": 4,
   "metadata": {},
   "outputs": [],
   "source": [
    "def insertNode(rootNode, nodeValue):\n",
    "    if rootNode.data == None:\n",
    "        rootNode.data = nodeValue\n",
    "    elif nodeValue <= rootNode.data:\n",
    "        if rootNode.leftChild is None:\n",
    "            rootNode.leftChild = BSTNode(nodeValue)\n",
    "        else:\n",
    "            insertNode(rootNode.leftChild, nodeValue)\n",
    "    else:\n",
    "        if rootNode.rightChild is None:\n",
    "            rootNode.rightChild = BSTNode(nodeValue)\n",
    "        else:\n",
    "            insertNode(rootNode.rightChild, nodeValue)\n",
    "            \n",
    "    return \"Insertion done!!\""
   ]
  },
  {
   "cell_type": "code",
   "execution_count": 5,
   "metadata": {},
   "outputs": [
    {
     "data": {
      "text/plain": [
       "'Insertion done!!'"
      ]
     },
     "execution_count": 5,
     "metadata": {},
     "output_type": "execute_result"
    }
   ],
   "source": [
    "insertNode(newNode, 60)"
   ]
  },
  {
   "cell_type": "code",
   "execution_count": 6,
   "metadata": {},
   "outputs": [
    {
     "data": {
      "text/plain": [
       "{'data': 60, 'leftChild': None, 'rightChild': None}"
      ]
     },
     "execution_count": 6,
     "metadata": {},
     "output_type": "execute_result"
    }
   ],
   "source": [
    "newNode.__dict__"
   ]
  },
  {
   "cell_type": "code",
   "execution_count": 7,
   "metadata": {},
   "outputs": [
    {
     "data": {
      "text/plain": [
       "'Insertion done!!'"
      ]
     },
     "execution_count": 7,
     "metadata": {},
     "output_type": "execute_result"
    }
   ],
   "source": [
    "insertNode(newNode, 40)"
   ]
  },
  {
   "cell_type": "code",
   "execution_count": 8,
   "metadata": {},
   "outputs": [
    {
     "data": {
      "text/plain": [
       "{'data': 60,\n",
       " 'leftChild': <__main__.BSTNode at 0x14435b639a0>,\n",
       " 'rightChild': None}"
      ]
     },
     "execution_count": 8,
     "metadata": {},
     "output_type": "execute_result"
    }
   ],
   "source": [
    "newNode.__dict__"
   ]
  },
  {
   "cell_type": "code",
   "execution_count": 9,
   "metadata": {},
   "outputs": [
    {
     "data": {
      "text/plain": [
       "'Insertion done!!'"
      ]
     },
     "execution_count": 9,
     "metadata": {},
     "output_type": "execute_result"
    }
   ],
   "source": [
    "insertNode(newNode, 80)"
   ]
  },
  {
   "cell_type": "code",
   "execution_count": 10,
   "metadata": {},
   "outputs": [
    {
     "data": {
      "text/plain": [
       "{'data': 60,\n",
       " 'leftChild': <__main__.BSTNode at 0x14435b639a0>,\n",
       " 'rightChild': <__main__.BSTNode at 0x14435b49a90>}"
      ]
     },
     "execution_count": 10,
     "metadata": {},
     "output_type": "execute_result"
    }
   ],
   "source": [
    "newNode.__dict__"
   ]
  },
  {
   "cell_type": "code",
   "execution_count": 11,
   "metadata": {},
   "outputs": [
    {
     "data": {
      "text/plain": [
       "'Insertion done!!'"
      ]
     },
     "execution_count": 11,
     "metadata": {},
     "output_type": "execute_result"
    }
   ],
   "source": [
    "insertNode(newNode, 20)\n",
    "insertNode(newNode, 50)\n",
    "insertNode(newNode, 70)\n",
    "insertNode(newNode, 90)"
   ]
  },
  {
   "cell_type": "code",
   "execution_count": 12,
   "metadata": {},
   "outputs": [
    {
     "data": {
      "text/plain": [
       "{'data': 80,\n",
       " 'leftChild': <__main__.BSTNode at 0x14435b63eb0>,\n",
       " 'rightChild': <__main__.BSTNode at 0x14435b63f10>}"
      ]
     },
     "execution_count": 12,
     "metadata": {},
     "output_type": "execute_result"
    }
   ],
   "source": [
    "newNode.rightChild.__dict__"
   ]
  },
  {
   "cell_type": "code",
   "execution_count": 13,
   "metadata": {},
   "outputs": [],
   "source": [
    "def preOrderTraversal(myTree):\n",
    "    if not myTree:\n",
    "        return\n",
    "    print(myTree.data)\n",
    "    preOrderTraversal(myTree.leftChild)\n",
    "    preOrderTraversal(myTree.rightChild)"
   ]
  },
  {
   "cell_type": "code",
   "execution_count": 14,
   "metadata": {},
   "outputs": [],
   "source": [
    "def postOrderTraversal(myTree):\n",
    "    if not myTree:\n",
    "        return\n",
    "    preOrderTraversal(myTree.leftChild)\n",
    "    preOrderTraversal(myTree.rightChild)\n",
    "    print(myTree.data)"
   ]
  },
  {
   "cell_type": "code",
   "execution_count": 15,
   "metadata": {},
   "outputs": [],
   "source": [
    "def inOrderTraversal(myTree):\n",
    "    if not myTree:\n",
    "        return\n",
    "    preOrderTraversal(myTree.leftChild)\n",
    "    print(myTree.data)\n",
    "    preOrderTraversal(myTree.rightChild)"
   ]
  },
  {
   "cell_type": "code",
   "execution_count": 16,
   "metadata": {},
   "outputs": [
    {
     "name": "stdout",
     "output_type": "stream",
     "text": [
      "60\n",
      "40\n",
      "20\n",
      "50\n",
      "80\n",
      "70\n",
      "90\n"
     ]
    }
   ],
   "source": [
    "preOrderTraversal(newNode)"
   ]
  },
  {
   "cell_type": "code",
   "execution_count": 17,
   "metadata": {},
   "outputs": [
    {
     "name": "stdout",
     "output_type": "stream",
     "text": [
      "40\n",
      "20\n",
      "50\n",
      "80\n",
      "70\n",
      "90\n",
      "60\n"
     ]
    }
   ],
   "source": [
    "postOrderTraversal(newNode)"
   ]
  },
  {
   "cell_type": "code",
   "execution_count": 18,
   "metadata": {},
   "outputs": [
    {
     "name": "stdout",
     "output_type": "stream",
     "text": [
      "40\n",
      "20\n",
      "50\n",
      "60\n",
      "80\n",
      "70\n",
      "90\n"
     ]
    }
   ],
   "source": [
    "inOrderTraversal(newNode)"
   ]
  },
  {
   "cell_type": "code",
   "execution_count": 19,
   "metadata": {},
   "outputs": [],
   "source": [
    "from collections import deque"
   ]
  },
  {
   "cell_type": "code",
   "execution_count": 20,
   "metadata": {},
   "outputs": [],
   "source": [
    "def level_order_traversal(rootNode):\n",
    "    if rootNode is None:\n",
    "        return \"no node found\"\n",
    "    \n",
    "    q = deque()\n",
    "    q.append(rootNode)\n",
    "    \n",
    "    while len(q) != 0:\n",
    "        p = q.popleft()\n",
    "        print(p.data, end=\" -> \")\n",
    "        if p.leftChild is not None:\n",
    "            q.append(p.leftChild)\n",
    "        if p.rightChild is not None:\n",
    "            q.append(p.rightChild)"
   ]
  },
  {
   "cell_type": "code",
   "execution_count": 21,
   "metadata": {},
   "outputs": [
    {
     "name": "stdout",
     "output_type": "stream",
     "text": [
      "60 -> 40 -> 80 -> 20 -> 50 -> 70 -> 90 -> "
     ]
    }
   ],
   "source": [
    "level_order_traversal(newNode)"
   ]
  }
 ],
 "metadata": {
  "kernelspec": {
   "display_name": "Python 3",
   "language": "python",
   "name": "python3"
  },
  "language_info": {
   "codemirror_mode": {
    "name": "ipython",
    "version": 3
   },
   "file_extension": ".py",
   "mimetype": "text/x-python",
   "name": "python",
   "nbconvert_exporter": "python",
   "pygments_lexer": "ipython3",
   "version": "3.8.3"
  }
 },
 "nbformat": 4,
 "nbformat_minor": 4
}
